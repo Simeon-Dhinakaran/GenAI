{
  "nbformat": 4,
  "nbformat_minor": 0,
  "metadata": {
    "colab": {
      "provenance": [],
      "include_colab_link": true
    },
    "kernelspec": {
      "name": "python3",
      "display_name": "Python 3"
    },
    "language_info": {
      "name": "python"
    }
  },
  "cells": [
    {
      "cell_type": "markdown",
      "metadata": {
        "id": "view-in-github",
        "colab_type": "text"
      },
      "source": [
        "<a href=\"https://colab.research.google.com/github/Simeon-Dhinakaran/GenAI/blob/main/word_embedding/self_trained_glove_vector_model.ipynb\" target=\"_parent\"><img src=\"https://colab.research.google.com/assets/colab-badge.svg\" alt=\"Open In Colab\"/></a>"
      ]
    },
    {
      "cell_type": "code",
      "execution_count": null,
      "metadata": {
        "colab": {
          "base_uri": "https://localhost:8080/"
        },
        "id": "I78nIqLdpTNf",
        "outputId": "5caee141-0ea5-419d-e749-ad3160e30605"
      },
      "outputs": [
        {
          "output_type": "stream",
          "name": "stdout",
          "text": [
            "Collecting glove-python3\n",
            "  Downloading glove_python3-0.1.0.tar.gz (326 kB)\n",
            "\u001b[?25l     \u001b[90m━━━━━━━━━━━━━━━━━━━━━━━━━━━━━━━━━━━━━━━━\u001b[0m \u001b[32m0.0/327.0 kB\u001b[0m \u001b[31m?\u001b[0m eta \u001b[36m-:--:--\u001b[0m\r\u001b[2K     \u001b[90m━━━━━━━━━━━━━━━━━━━━━━━━━━━━━━━━━━━━━━━━\u001b[0m \u001b[32m327.0/327.0 kB\u001b[0m \u001b[31m14.7 MB/s\u001b[0m eta \u001b[36m0:00:00\u001b[0m\n",
            "\u001b[?25h  Preparing metadata (setup.py) ... \u001b[?25l\u001b[?25hdone\n",
            "Requirement already satisfied: numpy in /usr/local/lib/python3.10/dist-packages (from glove-python3) (1.26.4)\n",
            "Requirement already satisfied: scipy in /usr/local/lib/python3.10/dist-packages (from glove-python3) (1.13.1)\n",
            "Building wheels for collected packages: glove-python3\n",
            "  Building wheel for glove-python3 (setup.py) ... \u001b[?25l\u001b[?25hdone\n",
            "  Created wheel for glove-python3: filename=glove_python3-0.1.0-cp310-cp310-linux_x86_64.whl size=1065518 sha256=0439e6b75d857bb2cc99fb66e7765fbd711837399dcce912031ef57594612523\n",
            "  Stored in directory: /root/.cache/pip/wheels/fe/2f/79/34314d44a0907e90e323c8c182ec23f126eb460829e02d98cf\n",
            "Successfully built glove-python3\n",
            "Installing collected packages: glove-python3\n",
            "Successfully installed glove-python3-0.1.0\n"
          ]
        }
      ],
      "source": [
        "!pip install glove-python3\n",
        "import gensim.downloader as api\n",
        "from glove import Corpus, Glove\n"
      ]
    },
    {
      "cell_type": "code",
      "source": [
        "dataset = api.load('text8')\n",
        "sentences = [sentence for sentence in dataset]\n",
        "corpus = Corpus()\n",
        "corpus.fit(sentences, window=10)\n",
        "glove = Glove(no_components=50, learning_rate=0.05)\n",
        "glove.fit(corpus.matrix, epochs=30, no_threads=4, verbose=True)\n",
        "glove.add_dictionary(corpus.dictionary)\n",
        "glove.save('glove_model.model')\n",
        "glove = Glove.load('glove_model.model')\n",
        "word = 'king'\n",
        "if word in glove.dictionary:\n",
        "    embedding = glove.word_vectors[glove.dictionary[word]]\n",
        "    print(f'Embedding for the word \"{word}\":\\n', embedding)\n",
        "else:\n",
        "    print(f'Word \"{word}\" not found in the glove dictionary.')"
      ],
      "metadata": {
        "colab": {
          "base_uri": "https://localhost:8080/"
        },
        "id": "gaX8focrpXEF",
        "outputId": "bbb70aa5-3c09-429b-8589-16e8c0ee1818"
      },
      "execution_count": null,
      "outputs": [
        {
          "output_type": "stream",
          "name": "stdout",
          "text": [
            "[==================================================] 100.0% 31.6/31.6MB downloaded\n",
            "Performing 30 training epochs with 4 threads\n",
            "Epoch 0\n",
            "Epoch 1\n",
            "Epoch 2\n"
          ]
        }
      ]
    }
  ]
}