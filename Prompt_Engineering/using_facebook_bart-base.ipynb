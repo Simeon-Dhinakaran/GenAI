{
  "nbformat": 4,
  "nbformat_minor": 0,
  "metadata": {
    "colab": {
      "provenance": [],
      "authorship_tag": "ABX9TyOOlE+xDY+j9aqE4Qa4TNou",
      "include_colab_link": true
    },
    "kernelspec": {
      "name": "python3",
      "display_name": "Python 3"
    },
    "language_info": {
      "name": "python"
    }
  },
  "cells": [
    {
      "cell_type": "markdown",
      "metadata": {
        "id": "view-in-github",
        "colab_type": "text"
      },
      "source": [
        "<a href=\"https://colab.research.google.com/github/Simeon-Dhinakaran/GenAI/blob/main/Prompt_Engineering/using_facebook_bart-base.ipynb\" target=\"_parent\"><img src=\"https://colab.research.google.com/assets/colab-badge.svg\" alt=\"Open In Colab\"/></a>"
      ]
    },
    {
      "cell_type": "code",
      "execution_count": 17,
      "metadata": {
        "id": "ku3p25RS9-ka"
      },
      "outputs": [],
      "source": [
        "from transformers import AutoTokenizer, AutoModelForCausalLM"
      ]
    },
    {
      "cell_type": "code",
      "source": [
        "model_name = \"facebook/bart-base\"\n",
        "tokenizer = AutoTokenizer.from_pretrained(model_name)\n",
        "model = AutoModelForCausalLM.from_pretrained(model_name)"
      ],
      "metadata": {
        "colab": {
          "base_uri": "https://localhost:8080/"
        },
        "id": "fu5XjgQM-FyH",
        "outputId": "ad7c9e67-6357-4fff-9327-ee65764694e7"
      },
      "execution_count": 18,
      "outputs": [
        {
          "output_type": "stream",
          "name": "stderr",
          "text": [
            "Some weights of BartForCausalLM were not initialized from the model checkpoint at facebook/bart-base and are newly initialized: ['decoder.embed_tokens.weight', 'lm_head.weight']\n",
            "You should probably TRAIN this model on a down-stream task to be able to use it for predictions and inference.\n"
          ]
        }
      ]
    },
    {
      "cell_type": "code",
      "source": [
        "#Define a simple prompt\n",
        "prompt = \"Write a simple poem\"\n",
        "\n",
        "#Tokenize the input and generate the response\n",
        "inputs = tokenizer(prompt, return_tensors=\"pt\")\n",
        "output = model.generate(**inputs, max_length=50)\n",
        "response = tokenizer.decode(output[0], skip_special_tokens=True)\n",
        "\n",
        "#Print the response\n",
        "print(\"Model output:\", response)"
      ],
      "metadata": {
        "colab": {
          "base_uri": "https://localhost:8080/"
        },
        "id": "JQnhMdvh-nNr",
        "outputId": "cfbb532a-404c-4e1f-adf7-844d7d2b0f1e"
      },
      "execution_count": 19,
      "outputs": [
        {
          "output_type": "stream",
          "name": "stdout",
          "text": [
            "Model output: Write a simple poem Persona deprivation deprivation attorneys attorneys attorneysagna attorneys attorneys Agreement attorneys attorneysruly attorneys attorneysFound attorneys attorneysrespective attorneysrespectivevenge attorneysrespectiverespectiverespectiveforkforkrespectiverespectivevengerespectivevengevengevengerespectiverespective Diablorespectiverespective legalityfork attorneys\n"
          ]
        }
      ]
    }
  ]
}